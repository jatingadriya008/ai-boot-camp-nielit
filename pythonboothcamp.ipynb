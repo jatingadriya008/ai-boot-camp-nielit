{
  "nbformat": 4,
  "nbformat_minor": 0,
  "metadata": {
    "colab": {
      "provenance": []
    },
    "kernelspec": {
      "name": "python3",
      "display_name": "Python 3"
    },
    "language_info": {
      "name": "python"
    }
  },
  "cells": [
    {
      "cell_type": "code",
      "execution_count": 1,
      "metadata": {
        "colab": {
          "base_uri": "https://localhost:8080/"
        },
        "id": "hqsTnDjHz0BF",
        "outputId": "0744491b-b9e3-47be-c229-447e49e81724"
      },
      "outputs": [
        {
          "output_type": "stream",
          "name": "stdout",
          "text": [
            "hello world\n"
          ]
        }
      ],
      "source": [
        "print(\"hello world\")"
      ]
    },
    {
      "cell_type": "code",
      "source": [
        "a=5\n",
        "b=6.5\n",
        "#addition\n",
        "c=a+b\n",
        "print(\"the sum of two number is\",c)"
      ],
      "metadata": {
        "colab": {
          "base_uri": "https://localhost:8080/"
        },
        "id": "52OaPOrU0mYr",
        "outputId": "df95d8e2-08d8-4559-bcd4-3004b2d0e119"
      },
      "execution_count": 2,
      "outputs": [
        {
          "output_type": "stream",
          "name": "stdout",
          "text": [
            "the sum of two number is 11.5\n"
          ]
        }
      ]
    },
    {
      "cell_type": "code",
      "source": [
        "j=float(input(\"enter first number\"))\n",
        "k=float(input(\"enter second number\"))\n",
        "l=j*k\n",
        "print(\"the product of the number\",l)\n"
      ],
      "metadata": {
        "colab": {
          "base_uri": "https://localhost:8080/"
        },
        "id": "evwZNIcH1goi",
        "outputId": "f81e38a8-e485-4fb4-cafd-08cac9c05c74"
      },
      "execution_count": 4,
      "outputs": [
        {
          "output_type": "stream",
          "name": "stdout",
          "text": [
            "enter first number34\n",
            "enter second number44\n",
            "the product of the number 1496.0\n"
          ]
        }
      ]
    }
  ]
}